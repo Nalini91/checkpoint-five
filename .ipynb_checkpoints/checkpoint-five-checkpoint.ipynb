{
 "cells": [
  {
   "cell_type": "markdown",
   "metadata": {
    "azdata_cell_guid": "c9a57f69-e372-43d2-94fc-ab1a9097069f"
   },
   "source": [
    "# Checkpoint Five: Modeling Data\n",
    "\n",
    "With your visualizations ready to go, the final step in your project is to do some predictive analysis on your dataset. You will be using linear regression for your model. You will not be penalized if your linear regression model does not work out. You just need to build the model and make notes as to the results.\n",
    "\n",
    "Link to my dataset:\n",
    "\n",
    "## Prepare Your Dataframe\n",
    "\n",
    "Import any libraries you need and create a dataframe."
   ]
  },
  {
   "cell_type": "code",
   "execution_count": 1,
   "metadata": {
    "azdata_cell_guid": "f9287db4-8af9-4bce-9a54-ffeeee0e045f"
   },
   "outputs": [
    {
     "data": {
      "text/html": [
       "<div>\n",
       "<style scoped>\n",
       "    .dataframe tbody tr th:only-of-type {\n",
       "        vertical-align: middle;\n",
       "    }\n",
       "\n",
       "    .dataframe tbody tr th {\n",
       "        vertical-align: top;\n",
       "    }\n",
       "\n",
       "    .dataframe thead th {\n",
       "        text-align: right;\n",
       "    }\n",
       "</style>\n",
       "<table border=\"1\" class=\"dataframe\">\n",
       "  <thead>\n",
       "    <tr style=\"text-align: right;\">\n",
       "      <th></th>\n",
       "      <th>Make</th>\n",
       "      <th>Model</th>\n",
       "      <th>Vehicle Class</th>\n",
       "      <th>Engine Size(L)</th>\n",
       "      <th>Cylinders</th>\n",
       "      <th>Transmission</th>\n",
       "      <th>Fuel Type</th>\n",
       "      <th>Fuel Consumption (City (L/100 km)</th>\n",
       "      <th>Fuel Consumption(Hwy (L/100 km))</th>\n",
       "      <th>Fuel Consumption(Comb (L/100 km))</th>\n",
       "      <th>CO2 Emissions(g/km)</th>\n",
       "      <th>CO2 Rating</th>\n",
       "      <th>Smog Rating</th>\n",
       "      <th>Make_Model</th>\n",
       "    </tr>\n",
       "  </thead>\n",
       "  <tbody>\n",
       "    <tr>\n",
       "      <th>0</th>\n",
       "      <td>Acura</td>\n",
       "      <td>ILX</td>\n",
       "      <td>Compact</td>\n",
       "      <td>2.4</td>\n",
       "      <td>4</td>\n",
       "      <td>AM8</td>\n",
       "      <td>Z</td>\n",
       "      <td>9.9</td>\n",
       "      <td>7.0</td>\n",
       "      <td>8.6</td>\n",
       "      <td>200</td>\n",
       "      <td>6</td>\n",
       "      <td>3</td>\n",
       "      <td>Acura_ILX</td>\n",
       "    </tr>\n",
       "    <tr>\n",
       "      <th>1</th>\n",
       "      <td>Acura</td>\n",
       "      <td>MDX SH-AWD</td>\n",
       "      <td>SUV: Small</td>\n",
       "      <td>3.5</td>\n",
       "      <td>6</td>\n",
       "      <td>AS10</td>\n",
       "      <td>Z</td>\n",
       "      <td>12.6</td>\n",
       "      <td>9.4</td>\n",
       "      <td>11.2</td>\n",
       "      <td>263</td>\n",
       "      <td>4</td>\n",
       "      <td>5</td>\n",
       "      <td>Acura_MDX SH-AWD</td>\n",
       "    </tr>\n",
       "    <tr>\n",
       "      <th>2</th>\n",
       "      <td>Acura</td>\n",
       "      <td>RDX SH-AWD</td>\n",
       "      <td>SUV: Small</td>\n",
       "      <td>2.0</td>\n",
       "      <td>4</td>\n",
       "      <td>AS10</td>\n",
       "      <td>Z</td>\n",
       "      <td>11.0</td>\n",
       "      <td>8.6</td>\n",
       "      <td>9.9</td>\n",
       "      <td>232</td>\n",
       "      <td>5</td>\n",
       "      <td>6</td>\n",
       "      <td>Acura_RDX SH-AWD</td>\n",
       "    </tr>\n",
       "    <tr>\n",
       "      <th>3</th>\n",
       "      <td>Acura</td>\n",
       "      <td>RDX SH-AWD A-SPEC</td>\n",
       "      <td>SUV: Small</td>\n",
       "      <td>2.0</td>\n",
       "      <td>4</td>\n",
       "      <td>AS10</td>\n",
       "      <td>Z</td>\n",
       "      <td>11.3</td>\n",
       "      <td>9.1</td>\n",
       "      <td>10.3</td>\n",
       "      <td>242</td>\n",
       "      <td>5</td>\n",
       "      <td>6</td>\n",
       "      <td>Acura_RDX SH-AWD A-SPEC</td>\n",
       "    </tr>\n",
       "    <tr>\n",
       "      <th>4</th>\n",
       "      <td>Acura</td>\n",
       "      <td>TLX SH-AWD</td>\n",
       "      <td>Compact</td>\n",
       "      <td>2.0</td>\n",
       "      <td>4</td>\n",
       "      <td>AS10</td>\n",
       "      <td>Z</td>\n",
       "      <td>11.2</td>\n",
       "      <td>8.0</td>\n",
       "      <td>9.8</td>\n",
       "      <td>230</td>\n",
       "      <td>5</td>\n",
       "      <td>7</td>\n",
       "      <td>Acura_TLX SH-AWD</td>\n",
       "    </tr>\n",
       "  </tbody>\n",
       "</table>\n",
       "</div>"
      ],
      "text/plain": [
       "    Make              Model Vehicle Class  Engine Size(L)  Cylinders  \\\n",
       "0  Acura                ILX       Compact             2.4          4   \n",
       "1  Acura         MDX SH-AWD    SUV: Small             3.5          6   \n",
       "2  Acura         RDX SH-AWD    SUV: Small             2.0          4   \n",
       "3  Acura  RDX SH-AWD A-SPEC    SUV: Small             2.0          4   \n",
       "4  Acura         TLX SH-AWD       Compact             2.0          4   \n",
       "\n",
       "  Transmission Fuel Type  Fuel Consumption (City (L/100 km)  \\\n",
       "0          AM8         Z                                9.9   \n",
       "1         AS10         Z                               12.6   \n",
       "2         AS10         Z                               11.0   \n",
       "3         AS10         Z                               11.3   \n",
       "4         AS10         Z                               11.2   \n",
       "\n",
       "   Fuel Consumption(Hwy (L/100 km))  Fuel Consumption(Comb (L/100 km))  \\\n",
       "0                               7.0                                8.6   \n",
       "1                               9.4                               11.2   \n",
       "2                               8.6                                9.9   \n",
       "3                               9.1                               10.3   \n",
       "4                               8.0                                9.8   \n",
       "\n",
       "   CO2 Emissions(g/km)  CO2 Rating  Smog Rating               Make_Model  \n",
       "0                  200           6            3                Acura_ILX  \n",
       "1                  263           4            5         Acura_MDX SH-AWD  \n",
       "2                  232           5            6         Acura_RDX SH-AWD  \n",
       "3                  242           5            6  Acura_RDX SH-AWD A-SPEC  \n",
       "4                  230           5            7         Acura_TLX SH-AWD  "
      ]
     },
     "execution_count": 1,
     "metadata": {},
     "output_type": "execute_result"
    }
   ],
   "source": [
    "# Importing naumpy and pandas libraries to read the data\n",
    "\n",
    "# Import the numpy and pandas package\n",
    "import numpy as np\n",
    "import pandas as pd\n",
    "\n",
    "# Supress Warnings\n",
    "import warnings\n",
    "warnings.filterwarnings('ignore')\n",
    "\n",
    "# Read the CSV file\n",
    "Car_ratings_df = pd.read_csv(\"fuel_consumption_df.csv\")\n",
    "Car_ratings_df.head()"
   ]
  },
  {
   "cell_type": "code",
   "execution_count": 2,
   "metadata": {},
   "outputs": [
    {
     "data": {
      "text/plain": [
       "(946, 14)"
      ]
     },
     "execution_count": 2,
     "metadata": {},
     "output_type": "execute_result"
    }
   ],
   "source": [
    "Car_ratings_df.shape"
   ]
  },
  {
   "cell_type": "code",
   "execution_count": 3,
   "metadata": {},
   "outputs": [
    {
     "name": "stdout",
     "output_type": "stream",
     "text": [
      "<class 'pandas.core.frame.DataFrame'>\n",
      "RangeIndex: 946 entries, 0 to 945\n",
      "Data columns (total 14 columns):\n",
      " #   Column                             Non-Null Count  Dtype  \n",
      "---  ------                             --------------  -----  \n",
      " 0   Make                               946 non-null    object \n",
      " 1   Model                              946 non-null    object \n",
      " 2   Vehicle Class                      946 non-null    object \n",
      " 3   Engine Size(L)                     946 non-null    float64\n",
      " 4   Cylinders                          946 non-null    int64  \n",
      " 5   Transmission                       946 non-null    object \n",
      " 6   Fuel Type                          946 non-null    object \n",
      " 7   Fuel Consumption (City (L/100 km)  946 non-null    float64\n",
      " 8   Fuel Consumption(Hwy (L/100 km))   946 non-null    float64\n",
      " 9   Fuel Consumption(Comb (L/100 km))  946 non-null    float64\n",
      " 10  CO2 Emissions(g/km)                946 non-null    int64  \n",
      " 11  CO2 Rating                         946 non-null    int64  \n",
      " 12  Smog Rating                        946 non-null    int64  \n",
      " 13  Make_Model                         946 non-null    object \n",
      "dtypes: float64(4), int64(4), object(6)\n",
      "memory usage: 103.6+ KB\n"
     ]
    }
   ],
   "source": [
    "Car_ratings_df.info()"
   ]
  },
  {
   "cell_type": "code",
   "execution_count": 4,
   "metadata": {},
   "outputs": [
    {
     "data": {
      "text/html": [
       "<div>\n",
       "<style scoped>\n",
       "    .dataframe tbody tr th:only-of-type {\n",
       "        vertical-align: middle;\n",
       "    }\n",
       "\n",
       "    .dataframe tbody tr th {\n",
       "        vertical-align: top;\n",
       "    }\n",
       "\n",
       "    .dataframe thead th {\n",
       "        text-align: right;\n",
       "    }\n",
       "</style>\n",
       "<table border=\"1\" class=\"dataframe\">\n",
       "  <thead>\n",
       "    <tr style=\"text-align: right;\">\n",
       "      <th></th>\n",
       "      <th>Engine Size(L)</th>\n",
       "      <th>Cylinders</th>\n",
       "      <th>Fuel Consumption (City (L/100 km)</th>\n",
       "      <th>Fuel Consumption(Hwy (L/100 km))</th>\n",
       "      <th>Fuel Consumption(Comb (L/100 km))</th>\n",
       "      <th>CO2 Emissions(g/km)</th>\n",
       "      <th>CO2 Rating</th>\n",
       "      <th>Smog Rating</th>\n",
       "    </tr>\n",
       "  </thead>\n",
       "  <tbody>\n",
       "    <tr>\n",
       "      <th>count</th>\n",
       "      <td>946.000000</td>\n",
       "      <td>946.000000</td>\n",
       "      <td>946.000000</td>\n",
       "      <td>946.000000</td>\n",
       "      <td>946.000000</td>\n",
       "      <td>946.000000</td>\n",
       "      <td>946.000000</td>\n",
       "      <td>946.000000</td>\n",
       "    </tr>\n",
       "    <tr>\n",
       "      <th>mean</th>\n",
       "      <td>3.198732</td>\n",
       "      <td>5.668076</td>\n",
       "      <td>12.506448</td>\n",
       "      <td>9.363319</td>\n",
       "      <td>11.092072</td>\n",
       "      <td>259.172304</td>\n",
       "      <td>4.539112</td>\n",
       "      <td>4.950317</td>\n",
       "    </tr>\n",
       "    <tr>\n",
       "      <th>std</th>\n",
       "      <td>1.374814</td>\n",
       "      <td>1.932670</td>\n",
       "      <td>3.452043</td>\n",
       "      <td>2.285125</td>\n",
       "      <td>2.876276</td>\n",
       "      <td>64.443149</td>\n",
       "      <td>1.471799</td>\n",
       "      <td>1.679842</td>\n",
       "    </tr>\n",
       "    <tr>\n",
       "      <th>min</th>\n",
       "      <td>1.200000</td>\n",
       "      <td>3.000000</td>\n",
       "      <td>4.000000</td>\n",
       "      <td>3.900000</td>\n",
       "      <td>4.000000</td>\n",
       "      <td>94.000000</td>\n",
       "      <td>1.000000</td>\n",
       "      <td>1.000000</td>\n",
       "    </tr>\n",
       "    <tr>\n",
       "      <th>25%</th>\n",
       "      <td>2.000000</td>\n",
       "      <td>4.000000</td>\n",
       "      <td>10.200000</td>\n",
       "      <td>7.700000</td>\n",
       "      <td>9.100000</td>\n",
       "      <td>213.250000</td>\n",
       "      <td>3.000000</td>\n",
       "      <td>3.000000</td>\n",
       "    </tr>\n",
       "    <tr>\n",
       "      <th>50%</th>\n",
       "      <td>3.000000</td>\n",
       "      <td>6.000000</td>\n",
       "      <td>12.200000</td>\n",
       "      <td>9.200000</td>\n",
       "      <td>10.800000</td>\n",
       "      <td>257.000000</td>\n",
       "      <td>5.000000</td>\n",
       "      <td>5.000000</td>\n",
       "    </tr>\n",
       "    <tr>\n",
       "      <th>75%</th>\n",
       "      <td>3.800000</td>\n",
       "      <td>6.000000</td>\n",
       "      <td>14.700000</td>\n",
       "      <td>10.700000</td>\n",
       "      <td>12.900000</td>\n",
       "      <td>300.750000</td>\n",
       "      <td>5.000000</td>\n",
       "      <td>6.000000</td>\n",
       "    </tr>\n",
       "    <tr>\n",
       "      <th>max</th>\n",
       "      <td>8.000000</td>\n",
       "      <td>16.000000</td>\n",
       "      <td>30.300000</td>\n",
       "      <td>20.900000</td>\n",
       "      <td>26.100000</td>\n",
       "      <td>608.000000</td>\n",
       "      <td>10.000000</td>\n",
       "      <td>7.000000</td>\n",
       "    </tr>\n",
       "  </tbody>\n",
       "</table>\n",
       "</div>"
      ],
      "text/plain": [
       "       Engine Size(L)   Cylinders  Fuel Consumption (City (L/100 km)  \\\n",
       "count      946.000000  946.000000                         946.000000   \n",
       "mean         3.198732    5.668076                          12.506448   \n",
       "std          1.374814    1.932670                           3.452043   \n",
       "min          1.200000    3.000000                           4.000000   \n",
       "25%          2.000000    4.000000                          10.200000   \n",
       "50%          3.000000    6.000000                          12.200000   \n",
       "75%          3.800000    6.000000                          14.700000   \n",
       "max          8.000000   16.000000                          30.300000   \n",
       "\n",
       "       Fuel Consumption(Hwy (L/100 km))  Fuel Consumption(Comb (L/100 km))  \\\n",
       "count                        946.000000                         946.000000   \n",
       "mean                           9.363319                          11.092072   \n",
       "std                            2.285125                           2.876276   \n",
       "min                            3.900000                           4.000000   \n",
       "25%                            7.700000                           9.100000   \n",
       "50%                            9.200000                          10.800000   \n",
       "75%                           10.700000                          12.900000   \n",
       "max                           20.900000                          26.100000   \n",
       "\n",
       "       CO2 Emissions(g/km)  CO2 Rating  Smog Rating  \n",
       "count           946.000000  946.000000   946.000000  \n",
       "mean            259.172304    4.539112     4.950317  \n",
       "std              64.443149    1.471799     1.679842  \n",
       "min              94.000000    1.000000     1.000000  \n",
       "25%             213.250000    3.000000     3.000000  \n",
       "50%             257.000000    5.000000     5.000000  \n",
       "75%             300.750000    5.000000     6.000000  \n",
       "max             608.000000   10.000000     7.000000  "
      ]
     },
     "execution_count": 4,
     "metadata": {},
     "output_type": "execute_result"
    }
   ],
   "source": [
    "Car_ratings_df.describe()"
   ]
  },
  {
   "cell_type": "markdown",
   "metadata": {
    "azdata_cell_guid": "d794ffe0-9cd3-4812-bc7d-f75460cf611c"
   },
   "source": [
    "## Find Correlations\n",
    "\n",
    "Use either pairplot or a heatmap or both to find the two variables with the strongest correlation in your dataset."
   ]
  },
  {
   "cell_type": "code",
   "execution_count": 11,
   "metadata": {
    "azdata_cell_guid": "b009376d-9eb1-4cf0-9487-f0ddc3dbc1cd"
   },
   "outputs": [],
   "source": [
    "# Import matplotlib and seaborn libraries to visualize the data\n",
    "import matplotlib.pyplot as plt \n",
    "import seaborn as sns"
   ]
  },
  {
   "cell_type": "code",
   "execution_count": 12,
   "metadata": {},
   "outputs": [
    {
     "data": {
      "image/png": "[encoded data removed]",
      "text/plain": [
       "<Figure size 432x288 with 2 Axes>"
      ]
     },
     "metadata": {
      "needs_background": "light"
     },
     "output_type": "display_data"
    }
   ],
   "source": [
    "# Visualizing the data using heatmap\n",
    "sns.heatmap(Car_ratings_df.corr(), cmap=\"YlGnBu\", annot = True)\n",
    "plt.show()"
   ]
  },
  {
   "cell_type": "markdown",
   "metadata": {
    "azdata_cell_guid": "b75b6098-4152-4701-9136-a8f774c8583e"
   },
   "source": [
    "## Create Your Model\n",
    "\n",
    "Use the two columns with the strongest correlation to create and train your model. Make sure to print out the summary and plot the column values and the line produced by the model."
   ]
  },
  {
   "cell_type": "code",
   "execution_count": 1,
   "metadata": {
    "azdata_cell_guid": "05ecd9c7-e4a4-4d5c-b092-3dff597e96a3"
   },
   "outputs": [],
   "source": [
    "# From looking at above heatmap Engine Size(L) and Smog Rating has strongest correlation to create a model."
   ]
  },
  {
   "cell_type": "code",
   "execution_count": 14,
   "metadata": {
    "azdata_cell_guid": "f55fbe86-74b8-44f7-af96-7448e58983d7",
    "tags": []
   },
   "outputs": [],
   "source": [
    "# Creating X and y\n",
    "X = Car_ratings_df['Engine Size(L)']\n",
    "y = Car_ratings_df['Smog Rating']"
   ]
  },
  {
   "cell_type": "code",
   "execution_count": 15,
   "metadata": {},
   "outputs": [],
   "source": [
    "# Splitting the variables as training and testing\n",
    "from sklearn.model_selection import train_test_split\n",
    "X_train, X_test, y_train, y_test = train_test_split(X, y, train_size = 0.7, \n",
    "                                                    test_size = 0.3, random_state = 100)"
   ]
  },
  {
   "cell_type": "code",
   "execution_count": 16,
   "metadata": {},
   "outputs": [
    {
     "data": {
      "text/plain": [
       "678    3.0\n",
       "105    4.4\n",
       "517    1.3\n",
       "539    1.6\n",
       "69     6.0\n",
       "      ... \n",
       "855    2.0\n",
       "871    3.5\n",
       "835    5.7\n",
       "792    3.0\n",
       "520    2.0\n",
       "Name: Engine Size(L), Length: 662, dtype: float64"
      ]
     },
     "execution_count": 16,
     "metadata": {},
     "output_type": "execute_result"
    }
   ],
   "source": [
    "X_train"
   ]
  },
  {
   "cell_type": "code",
   "execution_count": 17,
   "metadata": {},
   "outputs": [
    {
     "data": {
      "text/plain": [
       "678    6\n",
       "105    3\n",
       "517    6\n",
       "539    7\n",
       "69     3\n",
       "      ..\n",
       "855    7\n",
       "871    5\n",
       "835    3\n",
       "792    5\n",
       "520    5\n",
       "Name: Smog Rating, Length: 662, dtype: int64"
      ]
     },
     "execution_count": 17,
     "metadata": {},
     "output_type": "execute_result"
    }
   ],
   "source": [
    "y_train"
   ]
  },
  {
   "cell_type": "code",
   "execution_count": 18,
   "metadata": {},
   "outputs": [],
   "source": [
    "# Importing Statsmodels.api library from Statsmodel package\n",
    "import statsmodels.api as sm\n",
    "\n",
    "# Adding a constant to get an intercept\n",
    "X_train_sm = sm.add_constant(X_train)"
   ]
  },
  {
   "cell_type": "code",
   "execution_count": 19,
   "metadata": {},
   "outputs": [
    {
     "data": {
      "text/plain": [
       "const             6.691509\n",
       "Engine Size(L)   -0.541325\n",
       "dtype: float64"
      ]
     },
     "execution_count": 19,
     "metadata": {},
     "output_type": "execute_result"
    }
   ],
   "source": [
    "# Fitting the resgression line using 'OLS'\n",
    "lr = sm.OLS(y_train, X_train_sm).fit()\n",
    "\n",
    "# Printing the parameters\n",
    "lr.params"
   ]
  },
  {
   "cell_type": "code",
   "execution_count": 20,
   "metadata": {},
   "outputs": [
    {
     "data": {
      "text/html": [
       "<table class=\"simpletable\">\n",
       "<caption>OLS Regression Results</caption>\n",
       "<tr>\n",
       "  <th>Dep. Variable:</th>       <td>Smog Rating</td>   <th>  R-squared:         </th> <td>   0.201</td>\n",
       "</tr>\n",
       "<tr>\n",
       "  <th>Model:</th>                   <td>OLS</td>       <th>  Adj. R-squared:    </th> <td>   0.200</td>\n",
       "</tr>\n",
       "<tr>\n",
       "  <th>Method:</th>             <td>Least Squares</td>  <th>  F-statistic:       </th> <td>   165.9</td>\n",
       "</tr>\n",
       "<tr>\n",
       "  <th>Date:</th>             <td>Mon, 29 Aug 2022</td> <th>  Prob (F-statistic):</th> <td>5.12e-34</td>\n",
       "</tr>\n",
       "<tr>\n",
       "  <th>Time:</th>                 <td>09:59:07</td>     <th>  Log-Likelihood:    </th> <td> -1193.4</td>\n",
       "</tr>\n",
       "<tr>\n",
       "  <th>No. Observations:</th>      <td>   662</td>      <th>  AIC:               </th> <td>   2391.</td>\n",
       "</tr>\n",
       "<tr>\n",
       "  <th>Df Residuals:</th>          <td>   660</td>      <th>  BIC:               </th> <td>   2400.</td>\n",
       "</tr>\n",
       "<tr>\n",
       "  <th>Df Model:</th>              <td>     1</td>      <th>                     </th>     <td> </td>   \n",
       "</tr>\n",
       "<tr>\n",
       "  <th>Covariance Type:</th>      <td>nonrobust</td>    <th>                     </th>     <td> </td>   \n",
       "</tr>\n",
       "</table>\n",
       "<table class=\"simpletable\">\n",
       "<tr>\n",
       "         <td></td>           <th>coef</th>     <th>std err</th>      <th>t</th>      <th>P>|t|</th>  <th>[0.025</th>    <th>0.975]</th>  \n",
       "</tr>\n",
       "<tr>\n",
       "  <th>const</th>          <td>    6.6915</td> <td>    0.145</td> <td>   46.197</td> <td> 0.000</td> <td>    6.407</td> <td>    6.976</td>\n",
       "</tr>\n",
       "<tr>\n",
       "  <th>Engine Size(L)</th> <td>   -0.5413</td> <td>    0.042</td> <td>  -12.878</td> <td> 0.000</td> <td>   -0.624</td> <td>   -0.459</td>\n",
       "</tr>\n",
       "</table>\n",
       "<table class=\"simpletable\">\n",
       "<tr>\n",
       "  <th>Omnibus:</th>       <td>34.480</td> <th>  Durbin-Watson:     </th> <td>   1.983</td>\n",
       "</tr>\n",
       "<tr>\n",
       "  <th>Prob(Omnibus):</th> <td> 0.000</td> <th>  Jarque-Bera (JB):  </th> <td>  38.727</td>\n",
       "</tr>\n",
       "<tr>\n",
       "  <th>Skew:</th>          <td>-0.590</td> <th>  Prob(JB):          </th> <td>3.89e-09</td>\n",
       "</tr>\n",
       "<tr>\n",
       "  <th>Kurtosis:</th>      <td> 3.111</td> <th>  Cond. No.          </th> <td>    9.37</td>\n",
       "</tr>\n",
       "</table><br/><br/>Notes:<br/>[1] Standard Errors assume that the covariance matrix of the errors is correctly specified."
      ],
      "text/plain": [
       "<class 'statsmodels.iolib.summary.Summary'>\n",
       "\"\"\"\n",
       "                            OLS Regression Results                            \n",
       "==============================================================================\n",
       "Dep. Variable:            Smog Rating   R-squared:                       0.201\n",
       "Model:                            OLS   Adj. R-squared:                  0.200\n",
       "Method:                 Least Squares   F-statistic:                     165.9\n",
       "Date:                Mon, 29 Aug 2022   Prob (F-statistic):           5.12e-34\n",
       "Time:                        09:59:07   Log-Likelihood:                -1193.4\n",
       "No. Observations:                 662   AIC:                             2391.\n",
       "Df Residuals:                     660   BIC:                             2400.\n",
       "Df Model:                           1                                         \n",
       "Covariance Type:            nonrobust                                         \n",
       "==================================================================================\n",
       "                     coef    std err          t      P>|t|      [0.025      0.975]\n",
       "----------------------------------------------------------------------------------\n",
       "const              6.6915      0.145     46.197      0.000       6.407       6.976\n",
       "Engine Size(L)    -0.5413      0.042    -12.878      0.000      -0.624      -0.459\n",
       "==============================================================================\n",
       "Omnibus:                       34.480   Durbin-Watson:                   1.983\n",
       "Prob(Omnibus):                  0.000   Jarque-Bera (JB):               38.727\n",
       "Skew:                          -0.590   Prob(JB):                     3.89e-09\n",
       "Kurtosis:                       3.111   Cond. No.                         9.37\n",
       "==============================================================================\n",
       "\n",
       "Notes:\n",
       "[1] Standard Errors assume that the covariance matrix of the errors is correctly specified.\n",
       "\"\"\""
      ]
     },
     "execution_count": 20,
     "metadata": {},
     "output_type": "execute_result"
    }
   ],
   "source": [
    "# Performing a summary to list out all the different parameters of the regression line fitted\n",
    "lr.summary()"
   ]
  },
  {
   "cell_type": "code",
   "execution_count": null,
   "metadata": {},
   "outputs": [],
   "source": [
    "# Checking the model is viable or not.\n",
    "\n",
    "# The coefficient for Engine Size(L) is -0.5413, and its corresponding p-value is 0. That means the coefficient is not statistically significant.\n",
    "# R-squared value is 0.201, which means that 20.1% of the Smog Rating variance can be explained by the  Engine Size(L) column using this line.\n",
    "# Prob F-statistic has a very low p-value, practically zero, which gives us that the model fit is statistically significant."
   ]
  },
  {
   "cell_type": "code",
   "execution_count": 21,
   "metadata": {},
   "outputs": [
    {
     "data": {
      "image/png": "[encoded data removed]",
      "text/plain": [
       "<Figure size 432x288 with 1 Axes>"
      ]
     },
     "metadata": {
      "needs_background": "light"
     },
     "output_type": "display_data"
    }
   ],
   "source": [
    "# Visualizing the regression line\n",
    "plt.scatter(X_train, y_train)\n",
    "plt.plot(X_train, 6.6915 + -0.5413*X_train, 'r')\n",
    "plt.show()"
   ]
  },
  {
   "cell_type": "markdown",
   "metadata": {
    "azdata_cell_guid": "c021f50d-92b2-4359-b3a9-c47f62f0a94f"
   },
   "source": [
    "## Error Terms\n",
    "\n",
    "Finally, plot your error terms!"
   ]
  },
  {
   "cell_type": "code",
   "execution_count": 24,
   "metadata": {
    "azdata_cell_guid": "87480c6c-1bb6-4135-953a-c74ba3da518d"
   },
   "outputs": [],
   "source": [
    "# Predicting y_value using traingn data of X\n",
    "y_train_pred = lr.predict(X_train_sm)\n",
    "\n",
    "# Creating residuals from the y_train data and predicted y_data\n",
    "res = (y_train - y_train_pred)"
   ]
  },
  {
   "cell_type": "code",
   "execution_count": 25,
   "metadata": {},
   "outputs": [
    {
     "data": {
      "image/png": "[encoded data removed]",
      "text/plain": [
       "<Figure size 432x288 with 1 Axes>"
      ]
     },
     "metadata": {
      "needs_background": "light"
     },
     "output_type": "display_data"
    }
   ],
   "source": [
    "# Plotting the histogram using the residual values\n",
    "fig = plt.figure()\n",
    "sns.distplot(res, bins = 15)\n",
    "plt.title('Error Terms', fontsize = 15)\n",
    "plt.xlabel('y_train - y_train_pred', fontsize = 15)\n",
    "plt.show()"
   ]
  },
  {
   "cell_type": "markdown",
   "metadata": {
    "azdata_cell_guid": "5fc50d24-c873-4801-87f2-a1e518caf424"
   },
   "source": [
    "## Summarize Your Work\n",
    "\n",
    "Make notes of your answers to the questions below.\n",
    "\n",
    "1. What was your R-squared value? \n",
    "0.201\n",
    "2. Based on your results, do you think a linear regression model was the best type of predictive analysis for your dataset? \n",
    "It was not particularly effective in this case.The coefficient is statistically significant in one case and not statistically significant in other case.So,It's a good decision to choose other model.\n",
    "3. Was your plot of the error terms a bell curve? \n",
    "Not really.The curve is not a clear bell curve from above model.\n"
   ]
  }
 ],
 "metadata": {
  "kernelspec": {
   "display_name": "Python 3 (ipykernel)",
   "language": "python",
   "name": "python3"
  },
  "language_info": {
   "codemirror_mode": {
    "name": "ipython",
    "version": 3
   },
   "file_extension": ".py",
   "mimetype": "text/x-python",
   "name": "python",
   "nbconvert_exporter": "python",
   "pygments_lexer": "ipython3",
   "version": "3.9.7"
  }
 },
 "nbformat": 4,
 "nbformat_minor": 4
}
